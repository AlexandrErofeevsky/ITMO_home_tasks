{
 "cells": [
  {
   "cell_type": "code",
   "execution_count": 28,
   "id": "e66e763a",
   "metadata": {},
   "outputs": [],
   "source": [
    "import numpy as np\n",
    "import pandas as pd\n",
    "import matplotlib.pyplot as plt\n",
    "from sklearn.model_selection import train_test_split\n",
    "from sklearn.metrics import accuracy_score\n",
    "import scipy\n",
    "%matplotlib inline"
   ]
  },
  {
   "cell_type": "code",
   "execution_count": 18,
   "id": "9e05eab1",
   "metadata": {},
   "outputs": [],
   "source": [
    "import warnings\n",
    "warnings.filterwarnings('ignore')"
   ]
  },
  {
   "cell_type": "markdown",
   "id": "c414cf5f",
   "metadata": {},
   "source": [
    "# Data"
   ]
  },
  {
   "cell_type": "code",
   "execution_count": 8,
   "id": "07f37f8f",
   "metadata": {},
   "outputs": [],
   "source": [
    "df = pd.read_csv(\"bioresponse.csv\")\n",
    "X = df.drop([\"Activity\"], axis=1)\n",
    "y = df[[\"Activity\"]]\n",
    "X_train, X_test, y_train, y_test = train_test_split(X, y, test_size= 0.25, random_state = 42)"
   ]
  },
  {
   "cell_type": "markdown",
   "id": "ce4e052e",
   "metadata": {},
   "source": [
    "# Getting functions"
   ]
  },
  {
   "cell_type": "code",
   "execution_count": 4,
   "id": "abf47c10",
   "metadata": {},
   "outputs": [],
   "source": [
    "# sigmoid\n",
    "\n",
    "def sigmoid(z):\n",
    "    \"\"\"\n",
    "    Compute the sigmoid of z\n",
    "\n",
    "    Arguments:\n",
    "    z -- A scalar or numpy array of any size.\n",
    "\n",
    "    Return:\n",
    "    s -- sigmoid(z)\n",
    "    \"\"\"\n",
    "    s = 1./(1.+np.exp(-z))\n",
    "    \n",
    "    return s\n",
    "\n",
    "# initialize_with_zeros\n",
    "\n",
    "def initialize_with_zeros(dim):\n",
    "    \"\"\"\n",
    "    This function creates a vector of zeros of shape (dim, 1) for w and initializes b to 0.\n",
    "    \n",
    "    Argument:\n",
    "    dim -- size of the w vector we want (or number of parameters in this case)\n",
    "    \n",
    "    Returns:\n",
    "    w -- initialized vector of shape (dim, 1)\n",
    "    b -- initialized scalar (corresponds to the bias)\n",
    "    \"\"\"\n",
    "    w = np.zeros((dim,1))\n",
    "    b = 0.\n",
    "    \n",
    "    return w, b\n",
    "\n",
    "# propagate\n",
    "\n",
    "def propagate(w, b, X, Y):\n",
    "    \"\"\"\n",
    "    Implement the cost function and its gradient for the propagation explained above\n",
    "\n",
    "    Arguments:\n",
    "    w -- weights, a numpy array of size which equals the number of features\n",
    "    b -- bias, a scalar\n",
    "    X -- data \n",
    "    Y -- true \"label\" vector (containing 0 and 1) of size (1, number of examples)\n",
    "\n",
    "    Return:\n",
    "    cost -- negative log-likelihood cost for logistic regression\n",
    "    dw -- gradient of the loss with respect to w, thus same shape as w\n",
    "    db -- gradient of the loss with respect to b, thus same shape as b\n",
    "    \n",
    "    \"\"\"\n",
    "    m = X.shape[1]\n",
    "    #print('number of objects = ',len(X))\n",
    "    \n",
    "    # FORWARD PROPAGATION (FROM X TO COST)\n",
    "    A = sigmoid(np.dot(w.T,X)+b )                                 # compute activation\n",
    "    cost = -(1./m)*np.sum(Y*np.log(A)+(1-Y)*np.log(1-A),axis=1)   # compute cost\n",
    "    \n",
    "    # BACKWARD PROPAGATION (TO FIND GRAD)\n",
    "    dw = (1./m)*np.dot(X,(A-Y).T)\n",
    "    db = (1./m)*np.sum(A-Y,axis=1)\n",
    "\n",
    "    grads = {\"dw\": dw,\n",
    "             \"db\": db}\n",
    "    \n",
    "    return grads, cost\n",
    "\n",
    "# optimize\n",
    "\n",
    "def optimize(w, b, X, Y, num_iterations, learning_rate, print_cost = False):\n",
    "    \"\"\"\n",
    "    This function optimizes w and b by running a gradient descent algorithm\n",
    "    \n",
    "    Arguments:\n",
    "    w -- weights, a numpy array \n",
    "    b -- bias, a scalar\n",
    "    X -- data \n",
    "    Y -- true \"label\" vector (containing 0 and 1), of shape (1, number of examples)\n",
    "    num_iterations -- number of iterations of the optimization loop\n",
    "    learning_rate -- learning rate of the gradient descent update rule\n",
    "    print_cost -- True to print the loss every 100 steps\n",
    "    \n",
    "    Returns:\n",
    "    params -- dictionary containing the weights w and bias b\n",
    "    grads -- dictionary containing the gradients of the weights and bias with respect to the cost function\n",
    "    costs -- list of all the costs computed during the optimization, this will be used to plot the learning curve.\n",
    "    \n",
    "    \"\"\"\n",
    "    \n",
    "    costs = []\n",
    "    \n",
    "    for i in range(num_iterations):\n",
    "                \n",
    "        # Cost and gradient calculation \n",
    "        grads, cost = propagate(w,b,X,Y)\n",
    "        \n",
    "        # Retrieve derivatives from grads\n",
    "        dw = grads[\"dw\"]\n",
    "        db = grads[\"db\"]\n",
    "        \n",
    "        # update rule\n",
    "        w -=learning_rate*dw\n",
    "        b -=learning_rate*db\n",
    "        \n",
    "        # Record the costs\n",
    "        if i % 100 == 0:\n",
    "            costs.append(cost)\n",
    "        \n",
    "        # Print the cost every 100 training iterations\n",
    "        if print_cost and i % 100 == 0:\n",
    "            print (\"Cost after iteration %i: %f\" %(i, cost))\n",
    "    \n",
    "    params = {\"w\": w,\n",
    "              \"b\": b}\n",
    "    \n",
    "    grads = {\"dw\": dw,\n",
    "             \"db\": db}\n",
    "    \n",
    "    return params, grads, costs"
   ]
  },
  {
   "cell_type": "markdown",
   "id": "4d3fa16b",
   "metadata": {},
   "source": [
    "# Logistic regression"
   ]
  },
  {
   "cell_type": "code",
   "execution_count": 82,
   "id": "78883cea",
   "metadata": {},
   "outputs": [],
   "source": [
    "max_iter = 1000\n",
    "w, b = np.zeros((X_train.shape[1], 1)), 0\n",
    "lr = 0.015"
   ]
  },
  {
   "cell_type": "code",
   "execution_count": 107,
   "id": "a21e50a0",
   "metadata": {},
   "outputs": [
    {
     "name": "stdout",
     "output_type": "stream",
     "text": [
      "Cost after iteration 0: 0.485556\n",
      "Cost after iteration 100: 0.480607\n",
      "Cost after iteration 200: 0.476278\n",
      "Cost after iteration 300: 0.472375\n",
      "Cost after iteration 400: 0.468828\n",
      "Cost after iteration 500: 0.465579\n",
      "Cost after iteration 600: 0.462586\n",
      "Cost after iteration 700: 0.459812\n",
      "Cost after iteration 800: 0.457229\n",
      "Cost after iteration 900: 0.454812\n"
     ]
    }
   ],
   "source": [
    "params_lr, grads_lr, costs_lr = optimize(w, b, X_train.T, y_train.values.reshape(1, -1), max_iter, lr, print_cost = True)"
   ]
  },
  {
   "cell_type": "code",
   "execution_count": 23,
   "id": "5ddf116f",
   "metadata": {},
   "outputs": [],
   "source": [
    "w = params[\"w\"]\n",
    "b = params[\"b\"]"
   ]
  },
  {
   "cell_type": "code",
   "execution_count": 27,
   "id": "d5761cf6",
   "metadata": {},
   "outputs": [],
   "source": [
    "pred = (np.dot(w.T, X_test.T) + b > 0.5) * 1"
   ]
  },
  {
   "cell_type": "code",
   "execution_count": 41,
   "id": "e478fb3c",
   "metadata": {
    "scrolled": true
   },
   "outputs": [
    {
     "name": "stdout",
     "output_type": "stream",
     "text": [
      "Accuracy:  73.45 %\n"
     ]
    }
   ],
   "source": [
    "print(\"Accuracy: \", round(accuracy_score(y_test.values.reshape(1, -1)[0], pred[0]) * 100, 2), \"%\")"
   ]
  },
  {
   "cell_type": "markdown",
   "id": "e1c8efa8",
   "metadata": {},
   "source": [
    "# SGD"
   ]
  },
  {
   "cell_type": "code",
   "execution_count": 70,
   "id": "0946f8f4",
   "metadata": {},
   "outputs": [],
   "source": [
    "def sgd(w, b, X, y, max_iter, lr, batch_size, print_cost=False):\n",
    "    costs = []\n",
    "    m = X.shape[1]\n",
    "    \n",
    "    for i in range(max_iter):\n",
    "        permutation = np.random.permutation(m)\n",
    "        permuted_X = X.values[:, permutation]\n",
    "        permuted_y = y[:, permutation]\n",
    "        \n",
    "        for j in range(0, m, batch_size):\n",
    "            X_batch = permuted_X[:, j:j+batch_size]\n",
    "            y_batch = permuted_y[:, j:j+batch_size]\n",
    "            grads, cost = propagate(w, b, X_batch, y_batch)\n",
    "            dw = grads[\"dw\"]\n",
    "            db = grads[\"db\"]\n",
    "            w -= lr * dw\n",
    "            b -= lr * db\n",
    "            \n",
    "        if i % 100 == 0:\n",
    "            costs.append(cost)\n",
    "            \n",
    "            if print_cost:\n",
    "                print(\"Cost after iteration %i: %f\" % (i, cost))\n",
    "\n",
    "    params = {\"w\": w, \n",
    "              \"b\": b}\n",
    "    \n",
    "    grads = {\"dw\": dw,\n",
    "             \"db\": db}\n",
    "\n",
    "    return params, grads, costs"
   ]
  },
  {
   "cell_type": "code",
   "execution_count": 43,
   "id": "8050779a",
   "metadata": {},
   "outputs": [],
   "source": [
    "def adam(w, b, X, Y, max_iter, lr, beta1=0.9, beta2=0.999, epsilon=1e-8, print_cost=False):\n",
    "    costs = []\n",
    "    m = X.shape[1]\n",
    "    \n",
    "    vdw, vdb = 0, 0\n",
    "    sdw, sdb = 0, 0\n",
    "\n",
    "    for i in range(max_iter):\n",
    "        grads, cost = propagate(w, b, X, Y)\n",
    "        dw = grads[\"dw\"]\n",
    "        db = grads[\"db\"]\n",
    "        \n",
    "        vdw = beta1 * vdw + (1 - beta1) * dw\n",
    "        vdb = beta1 * vdb + (1 - beta1) * db\n",
    "        sdw = beta2 * sdw + (1 - beta2) * (dw**2)\n",
    "        sdb = beta2 * sdb + (1 - beta2) * (db**2)\n",
    "        \n",
    "        vdw_corrected = vdw / (1 - beta1**(i + 1))\n",
    "        vdb_corrected = vdb / (1 - beta1**(i + 1))\n",
    "        sdw_corrected = sdw / (1 - beta2**(i + 1))\n",
    "        sdb_corrected = sdb / (1 - beta2**(i + 1))\n",
    "        \n",
    "        w -= lr * vdw_corrected / (np.sqrt(sdw_corrected) + epsilon)\n",
    "        b -= lr * vdb_corrected / (np.sqrt(sdb_corrected) + epsilon)\n",
    "\n",
    "        if i % 100 == 0:\n",
    "            costs.append(cost)\n",
    "            \n",
    "            if print_cost:\n",
    "                print(\"Cost after iteration %i: %f\" % (i, cost))\n",
    "\n",
    "    params = {\"w\": w, \"b\": b}\n",
    "    grads = {\"dw\": dw, \"db\": db}\n",
    "\n",
    "    return params, grads, costs"
   ]
  },
  {
   "cell_type": "markdown",
   "id": "48d0de04",
   "metadata": {},
   "source": [
    "# Applying"
   ]
  },
  {
   "cell_type": "code",
   "execution_count": 71,
   "id": "fc482353",
   "metadata": {},
   "outputs": [],
   "source": [
    "batch_size=64\n",
    "w = np.zeros((X_train.shape[1], 1))\n",
    "b = 0"
   ]
  },
  {
   "cell_type": "code",
   "execution_count": 72,
   "id": "59d4d926",
   "metadata": {
    "scrolled": true
   },
   "outputs": [
    {
     "name": "stdout",
     "output_type": "stream",
     "text": [
      "Cost after iteration 0: 0.657371\n",
      "Cost after iteration 100: 0.395910\n",
      "Cost after iteration 200: 0.471244\n",
      "Cost after iteration 300: 0.262014\n",
      "Cost after iteration 400: 0.340890\n",
      "Cost after iteration 500: 0.467107\n",
      "Cost after iteration 600: 0.331397\n",
      "Cost after iteration 700: 0.335963\n",
      "Cost after iteration 800: 0.335392\n",
      "Cost after iteration 900: 0.431556\n"
     ]
    }
   ],
   "source": [
    "params_sgd, grads_sgd, costs_sgd = sgd(w, b, X_train.T, y_train.values.reshape(1, -1), max_iter, lr, batch_size, print_cost=True)"
   ]
  },
  {
   "cell_type": "code",
   "execution_count": 77,
   "id": "96f8ba85",
   "metadata": {},
   "outputs": [],
   "source": [
    "batch_size=64\n",
    "w = np.zeros((X_train.shape[1], 1))\n",
    "b = 0"
   ]
  },
  {
   "cell_type": "code",
   "execution_count": 78,
   "id": "5f41283f",
   "metadata": {},
   "outputs": [
    {
     "name": "stdout",
     "output_type": "stream",
     "text": [
      "Cost after iteration 0: 0.693147\n",
      "Cost after iteration 100: 0.615901\n",
      "Cost after iteration 200: 0.579360\n",
      "Cost after iteration 300: 0.555599\n",
      "Cost after iteration 400: 0.538360\n",
      "Cost after iteration 500: 0.525081\n",
      "Cost after iteration 600: 0.514441\n",
      "Cost after iteration 700: 0.505663\n",
      "Cost after iteration 800: 0.498254\n",
      "Cost after iteration 900: 0.491886\n"
     ]
    }
   ],
   "source": [
    "params_adam, grads_adam, costs_adam = adam(w, b, X_train.T, y_train.values.reshape(1, -1), max_iter, lr, beta1=0.9, beta2=0.999, epsilon=1**(-8), print_cost=True)"
   ]
  },
  {
   "cell_type": "markdown",
   "id": "7ffde9ec",
   "metadata": {},
   "source": [
    "# Visualisation"
   ]
  },
  {
   "cell_type": "code",
   "execution_count": 108,
   "id": "cbde8a09",
   "metadata": {},
   "outputs": [
    {
     "data": {
      "image/png": "[encoded data removed]",
      "text/plain": [
       "<Figure size 640x480 with 1 Axes>"
      ]
     },
     "metadata": {},
     "output_type": "display_data"
    }
   ],
   "source": [
    "plt.plot(costs_lr, label=\"GD\")\n",
    "plt.plot(costs_sgd, label=\"SGD\")\n",
    "plt.plot(costs_adam, label=\"ADAM\")\n",
    "plt.title(\"Methods' curves\")\n",
    "plt.xlabel(\"Iterations\")\n",
    "plt.ylabel(\"Cost\")\n",
    "plt.legend()\n",
    "plt.show()"
   ]
  },
  {
   "cell_type": "markdown",
   "id": "aed4e93a",
   "metadata": {},
   "source": [
    "# Different learning rates"
   ]
  },
  {
   "cell_type": "code",
   "execution_count": 113,
   "id": "029cf514",
   "metadata": {},
   "outputs": [],
   "source": [
    "learning_rates_list = [10**(-i) for i in range(1, 6)]\n",
    "max_iter = 1000\n",
    "\n",
    "models = dict()\n",
    "costs = dict()"
   ]
  },
  {
   "cell_type": "code",
   "execution_count": 115,
   "id": "48881ead",
   "metadata": {},
   "outputs": [
    {
     "name": "stdout",
     "output_type": "stream",
     "text": [
      "0.1 is ready\n",
      "0.01 is ready\n",
      "0.001 is ready\n",
      "0.0001 is ready\n",
      "1e-05 is ready\n"
     ]
    }
   ],
   "source": [
    "for lr in learning_rates_list:\n",
    "    w, b = np.zeros((X_train.shape[1], 1)), 0\n",
    "    \n",
    "    temp_params, _, temp_costs = optimize(w, b, X_train.T, y_train.values.reshape(1, -1), max_iter, lr)\n",
    "    \n",
    "    models[f\"LR_{lr}\"] = temp_params\n",
    "    costs[f\"LR_{lr}\"] = temp_costs\n",
    "    \n",
    "    w, b = np.zeros((X_train.shape[1], 1)), 0\n",
    "    \n",
    "    temp_params, _, temp_costs = sgd(w, b, X_train.T, y_train.values.reshape(1, -1), max_iter, lr, batch_size)\n",
    "    \n",
    "    models[f\"SGD_{lr}\"] = temp_params\n",
    "    costs[f\"SGD_{lr}\"] = temp_costs\n",
    "    \n",
    "    w, b = np.zeros((X_train.shape[1], 1)), 0\n",
    "    \n",
    "    temp_params, _, temp_costs = adam(w, b, X_train.T, y_train.values.reshape(1, -1), max_iter, lr, beta1=0.9, beta2=0.999, epsilon=1**(-8))\n",
    "    \n",
    "    models[f\"ADAM_{lr}\"] = temp_params\n",
    "    costs[f\"ADAM_{lr}\"] = temp_costs\n",
    "    \n",
    "    print(f\"{lr} is ready\")"
   ]
  },
  {
   "cell_type": "code",
   "execution_count": 139,
   "id": "7451980e",
   "metadata": {},
   "outputs": [
    {
     "name": "stdout",
     "output_type": "stream",
     "text": [
      "Model LR with learning rate 0.1 has accuracy 74.63 on test data\n",
      "---------------------------\n",
      "Model SGD with learning rate 0.1 has accuracy 73.03 on test data\n",
      "---------------------------\n",
      "Model ADAM with learning rate 0.1 has accuracy 74.73 on test data\n",
      "---------------------------\n",
      "Model LR with learning rate 0.01 has accuracy 70.58 on test data\n",
      "---------------------------\n",
      "Model SGD with learning rate 0.01 has accuracy 74.2 on test data\n",
      "---------------------------\n",
      "Model ADAM with learning rate 0.01 has accuracy 70.36 on test data\n",
      "---------------------------\n",
      "Model LR with learning rate 0.001 has accuracy 55.86 on test data\n",
      "---------------------------\n",
      "Model SGD with learning rate 0.001 has accuracy 73.35 on test data\n",
      "---------------------------\n",
      "Model ADAM with learning rate 0.001 has accuracy 55.54 on test data\n",
      "---------------------------\n",
      "Model LR with learning rate 0.0001 has accuracy 42.96 on test data\n",
      "---------------------------\n",
      "Model SGD with learning rate 0.0001 has accuracy 65.03 on test data\n",
      "---------------------------\n",
      "Model ADAM with learning rate 0.0001 has accuracy 42.96 on test data\n",
      "---------------------------\n",
      "Model LR with learning rate 1e-05 has accuracy 42.96 on test data\n",
      "---------------------------\n",
      "Model SGD with learning rate 1e-05 has accuracy 45.52 on test data\n",
      "---------------------------\n",
      "Model ADAM with learning rate 1e-05 has accuracy 42.96 on test data\n",
      "---------------------------\n",
      "\n",
      "The best model is ADAM with learning rate 0.1 and accuracy 74.73\n"
     ]
    }
   ],
   "source": [
    "best_model = ''\n",
    "best_accuracy = 0\n",
    "\n",
    "for model_name, model_params in models.items():\n",
    "    w = model_params[\"w\"]\n",
    "    b = model_params[\"b\"]\n",
    "    \n",
    "    pred_proba = np.dot(w.T, X_test.T) + b\n",
    "    pred = ((pred_proba > 0.5) * 1)[0]\n",
    "    accuracy = round(accuracy_score(y_test, pred) * 100, 2)\n",
    "    \n",
    "    name, lr = model_name.split(\"_\")\n",
    "    \n",
    "    print(f\"Model {name} with learning rate {lr} has accuracy {accuracy} on test data\")\n",
    "    \n",
    "    if accuracy > best_accuracy:\n",
    "        best_model = model_name\n",
    "        best_accuracy = accuracy\n",
    "        \n",
    "    print(\"---------------------------\")\n",
    "    \n",
    "    \n",
    "print()\n",
    "name, lr = best_model.split(\"_\")\n",
    "print(f\"The best model is {name} with learning rate {lr} and accuracy {best_accuracy}\")"
   ]
  }
 ],
 "metadata": {
  "kernelspec": {
   "display_name": "Python 3 (ipykernel)",
   "language": "python",
   "name": "python3"
  },
  "language_info": {
   "codemirror_mode": {
    "name": "ipython",
    "version": 3
   },
   "file_extension": ".py",
   "mimetype": "text/x-python",
   "name": "python",
   "nbconvert_exporter": "python",
   "pygments_lexer": "ipython3",
   "version": "3.9.6"
  }
 },
 "nbformat": 4,
 "nbformat_minor": 5
}
